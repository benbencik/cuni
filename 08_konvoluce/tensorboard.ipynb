{
 "cells": [
  {
   "cell_type": "markdown",
   "metadata": {},
   "source": [
    "# Tensorboard\n",
    "\n",
    "Tensorboard je velmi užitečný nástroj pro pochopení, sledování a logování jakýchkoliv výpočtů v tensorflow. Tensorflow umí logovat hodnoty všeho, co se v něm počítá a slouží k jejich zobrazení. Pokud chceme tensorboard použít, musíme definovat tzv. summaries, které právě obsahují logy. Potom už stačí jen tensorboard spustit (funguje v prohlížeči)."
   ]
  },
  {
   "cell_type": "code",
   "execution_count": 1,
   "metadata": {},
   "outputs": [
    {
     "name": "stdout",
     "output_type": "stream",
     "text": [
      "WARNING:tensorflow:`write_grads` will be ignored in TensorFlow 2.0 for the `TensorBoard` Callback.\n",
      "Epoch 1/10\n",
      "1875/1875 [==============================] - 72s 38ms/step - loss: 0.9795 - accuracy: 0.6962 - val_loss: 0.1497 - val_accuracy: 0.9581\n",
      "Epoch 2/10\n",
      "1875/1875 [==============================] - 69s 37ms/step - loss: 0.1389 - accuracy: 0.9580 - val_loss: 0.0850 - val_accuracy: 0.9754\n",
      "Epoch 3/10\n",
      "1875/1875 [==============================] - 74s 39ms/step - loss: 0.0904 - accuracy: 0.9728 - val_loss: 0.0693 - val_accuracy: 0.9797\n",
      "Epoch 4/10\n",
      "1875/1875 [==============================] - 65s 35ms/step - loss: 0.0749 - accuracy: 0.9767 - val_loss: 0.0586 - val_accuracy: 0.9827\n",
      "Epoch 5/10\n",
      "1875/1875 [==============================] - 64s 34ms/step - loss: 0.0605 - accuracy: 0.9815 - val_loss: 0.0510 - val_accuracy: 0.9843\n",
      "Epoch 6/10\n",
      "1875/1875 [==============================] - 65s 35ms/step - loss: 0.0541 - accuracy: 0.9835 - val_loss: 0.0494 - val_accuracy: 0.9850\n",
      "Epoch 7/10\n",
      "1875/1875 [==============================] - 65s 35ms/step - loss: 0.0490 - accuracy: 0.9852 - val_loss: 0.0463 - val_accuracy: 0.9860\n",
      "Epoch 8/10\n",
      "1875/1875 [==============================] - 65s 34ms/step - loss: 0.0422 - accuracy: 0.9869 - val_loss: 0.0480 - val_accuracy: 0.9845\n",
      "Epoch 9/10\n",
      "1875/1875 [==============================] - 63s 34ms/step - loss: 0.0394 - accuracy: 0.9883 - val_loss: 0.0436 - val_accuracy: 0.9868\n",
      "Epoch 10/10\n",
      "1875/1875 [==============================] - 64s 34ms/step - loss: 0.0377 - accuracy: 0.9887 - val_loss: 0.0367 - val_accuracy: 0.9882\n"
     ]
    },
    {
     "data": {
      "text/plain": [
       "<tensorflow.python.keras.callbacks.History at 0x22931882760>"
      ]
     },
     "execution_count": 1,
     "metadata": {},
     "output_type": "execute_result"
    }
   ],
   "source": [
    "import tensorflow as tf\n",
    "import matplotlib.pyplot as plt\n",
    "from tensorflow.keras.layers import InputLayer\n",
    "from tensorflow.keras.layers import Conv2D\n",
    "from tensorflow.keras.layers import MaxPool2D\n",
    "from tensorflow.keras.layers import Flatten\n",
    "from tensorflow.keras.layers import Dense\n",
    "from tensorflow.keras.layers import Activation\n",
    "from tensorflow.keras.activations import linear\n",
    "from tensorflow.nn import softmax\n",
    "from tensorflow.keras.datasets.mnist import load_data\n",
    "%matplotlib inline\n",
    "\n",
    "nb_classes = 10\n",
    "input_shape = (28, 28, 1)\n",
    "\n",
    "(x_train, y_train), (x_test, y_test) = load_data()\n",
    "x_train = x_train.astype('float32')\n",
    "x_test = x_test.astype('float32')\n",
    "\n",
    "x_train = x_train.reshape((-1,) + input_shape)/255\n",
    "x_test = x_test.reshape((-1,) + input_shape)/255\n",
    "\n",
    "with tf.name_scope('model'):\n",
    "\n",
    "    model = tf.keras.models.Sequential([\n",
    "        InputLayer(input_shape = input_shape, name='input'),\n",
    "        Conv2D(filters=32, kernel_size=(5, 5), name='conv_1'),\n",
    "        MaxPool2D(strides=2, pool_size=(2, 2), name='maxpool_1'),\n",
    "        Conv2D(filters=64, kernel_size=5, activation=tf.nn.relu, name='conv_2'),\n",
    "        MaxPool2D(strides=2, pool_size=(2, 2), name='maxpool_2'),\n",
    "        Flatten(name='Flatten'),\n",
    "        Dense(units=30, activation=tf.keras.activations.relu, name='dense_1'),\n",
    "        Dense(units=nb_classes, activation=linear, name='dense_2'),\n",
    "        Activation(activation=softmax)\n",
    "        ]\n",
    "    )\n",
    "\n",
    "    model.compile(loss='sparse_categorical_crossentropy', optimizer='sgd', metrics=['accuracy'])\n",
    "\n",
    "tb_callbacks = tf.keras.callbacks.TensorBoard(log_dir = './logs2', histogram_freq=1, write_grads=True, write_images=True)\n",
    "model.fit(x_train, y_train, epochs=10, validation_data=(x_test, y_test), callbacks=[tb_callbacks])"
   ]
  },
  {
   "cell_type": "markdown",
   "metadata": {},
   "source": [
    "Teď můžete spustit tensorboard pomocí ```tensorboard --logdir=logs2``` a prohlédnout si informace o trénování."
   ]
  },
  {
   "cell_type": "code",
   "execution_count": null,
   "metadata": {},
   "outputs": [],
   "source": []
  }
 ],
 "metadata": {
  "kernelspec": {
   "display_name": "Python 3",
   "language": "python",
   "name": "python3"
  },
  "language_info": {
   "codemirror_mode": {
    "name": "ipython",
    "version": 3
   },
   "file_extension": ".py",
   "mimetype": "text/x-python",
   "name": "python",
   "nbconvert_exporter": "python",
   "pygments_lexer": "ipython3",
   "version": "3.8.5"
  }
 },
 "nbformat": 4,
 "nbformat_minor": 2
}
