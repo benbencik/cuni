{
 "cells": [
  {
   "cell_type": "markdown",
   "metadata": {},
   "source": [
    "# Zpětnovazební učení"
   ]
  },
  {
   "cell_type": "markdown",
   "metadata": {},
   "source": [
    "V tomto cvičení budeme pracovat s Open AI gym, což je open source rozhraní určené pro úkoly zpětnovazebního učení. Jeho hlavní výhodou je, že implementace různých typů algoritmů pro zpětnovazební učení je v něm celkem jednoduchá. Popis základních funkcí Open AI gym se nachází v kódu níž.\n",
    "\n",
    "Dnešní úkol bude naimplementovat agenta, který se učí chovat v nějakém prostředí (konkrétně v MountainCar) pomocí Q-učení.\n",
    "\n",
    "Q-učení je způsob, kdy se agent učí svou strategii, jak se chovat v daném prostředí, pomocí zpětné vazby, kterou od prostředí za své chování dostává. Na rozdíl od hladového agenta, který jen v každém stavu vybírá nový stav na základě akce, co maximalizuje jeho užitek, bere v potaz to, že mezi stavy existují vztahy, které jsou dány Bellmanovými rovnicemi.\n",
    "\n",
    "Nyní se tedy podíváme na příklad autíčka,které se snaží dostat do cíle, ale zatím se pohybuje náhodně."
   ]
  },
  {
   "cell_type": "code",
   "execution_count": 1,
   "metadata": {},
   "outputs": [],
   "source": [
    "import gym\n",
    "import numpy as np\n",
    "import utils\n",
    "import matplotlib.pyplot as plt"
   ]
  },
  {
   "cell_type": "markdown",
   "metadata": {},
   "source": [
    "Ukážeme si, jak si vytvořit jednoduché prostředí *MountainCar*: https://gym.openai.com/envs/MountainCar-v0. \n",
    "\n",
    "Cílem je, aby se autíčko dostalo z údolí až nahoru k vlaječce, ale nemá dost silný motorek, takže se musí nejprve rozhoupat, aby tam vyjelo. V této základní verzi je zde v každém stavu náhodně zvolena akce pro pohyb."
   ]
  },
  {
   "cell_type": "code",
   "execution_count": 2,
   "metadata": {},
   "outputs": [],
   "source": [
    "env = gym.make('MountainCar-v0')\n",
    "env.reset()\n",
    "for i in range(1000):\n",
    "    env.render()\n",
    "    env.step(env.action_space.sample())\n",
    "env.close()"
   ]
  },
  {
   "cell_type": "markdown",
   "metadata": {},
   "source": [
    "Jen tak pro zajímavost existuje i například prostředí *CartPole*, kde je zase cílem vyvažovat tyčku, aby nespadla."
   ]
  },
  {
   "cell_type": "code",
   "execution_count": 3,
   "metadata": {},
   "outputs": [
    {
     "name": "stderr",
     "output_type": "stream",
     "text": [
      "c:\\users\\katie\\onedrive\\dokumenty\\documents\\skola\\matfyz\\phd\\prirodou-inspirovane-algoritmy\\02_zpetnovazebne_uceni\\gym\\gym\\logger.py:30: UserWarning: \u001b[33mWARN: You are calling 'step()' even though this environment has already returned done = True. You should always call 'reset()' once you receive 'done = True' -- any further steps are undefined behavior.\u001b[0m\n",
      "  warnings.warn(colorize('%s: %s'%('WARN', msg % args), 'yellow'))\n"
     ]
    }
   ],
   "source": [
    "import gym\n",
    "env = gym.make('CartPole-v0')\n",
    "env.reset()\n",
    "for _ in range(1000):\n",
    "    env.render()\n",
    "    env.step(env.action_space.sample()) # take a random action\n",
    "env.close()"
   ]
  },
  {
   "cell_type": "markdown",
   "metadata": {},
   "source": [
    "Opět si vytvoříme MountainCar prostředí. Můžeme si vypsat informace o rozměrech prostoru pozorování a akcí. "
   ]
  },
  {
   "cell_type": "code",
   "execution_count": 4,
   "metadata": {},
   "outputs": [
    {
     "name": "stdout",
     "output_type": "stream",
     "text": [
      "observation space: Box(-1.2000000476837158, 0.6000000238418579, (2,), float32)\n",
      "observation space low: [-1.2  -0.07]\n",
      "observation space high: [0.6  0.07]\n",
      "action space: Discrete(3)\n"
     ]
    }
   ],
   "source": [
    "env = gym.make('MountainCar-v0')\n",
    "\n",
    "print('observation space:', env.observation_space)\n",
    "print('observation space low:', env.observation_space.low)\n",
    "print('observation space high:', env.observation_space.high)\n",
    "print('action space:', env.action_space)"
   ]
  },
  {
   "cell_type": "markdown",
   "metadata": {},
   "source": [
    "Před spuštěním simulace prostředí je potřeba ho resetovat a dostaneme se do prvního pozorování, tedy počátečního stavu s počáteční náhodnou pozicí blízko minima údolí a nulovou rychlostí. Potom je potřeba v prostředí udělat nějakou akci. Třeba opět náhodnou, která se nám koneckonců bude za chvíli hodit pro náhodného agenta. Tu uděláme pomocí metody ```sample()```. Samotný krok, tedy vykonání akce v prostředí a posun do dalšího stavu, uděláme pomocí metody ```step(action)``` a získáme nové pozorování, o kterém si můžeme vypsat další užitečné informace jako odměnu, informaci o konci simulace a další info.  "
   ]
  },
  {
   "cell_type": "code",
   "execution_count": 5,
   "metadata": {},
   "outputs": [
    {
     "name": "stdout",
     "output_type": "stream",
     "text": [
      "initial observation: [-0.58341146  0.        ]\n",
      "next observation: [-5.83965267e-01 -5.53808316e-04]\n",
      "reward: -1.0\n",
      "done: False\n",
      "info: {}\n"
     ]
    }
   ],
   "source": [
    "obs = env.reset()\n",
    "print('initial observation:', obs)\n",
    "\n",
    "action = env.action_space.sample()\n",
    "obs, r, done, info = env.step(action)\n",
    "print('next observation:', obs)\n",
    "print('reward:', r)\n",
    "print('done:', done)\n",
    "print('info:', info)"
   ]
  },
  {
   "cell_type": "markdown",
   "metadata": {},
   "source": [
    "Použijeme nyní kód výše a vytvoříme si do něj třídu pro agenta, který se v prostředí zatím bude chovat náhodně, což nám sice v tuto chvíli nepřinese nic užitečného, ale můžete ho později použít jako základ pro zpětnovazebního agenta.\n",
    "\n",
    "Stav agenta dvojice je pozice a rychlost, akce může být pohyb vlevo, vpravo a nebo se nepohnout. Agent bude mít dvě metody, jednu na to, aby věděl, jak se má chovat a druhou aby se uměl resetovat. Agenta totiž budeme trénovat v několika iteracích. Pro zajímavost si také vypíšeme, jak vypadá prostředí, ve kterém se agent pohybuje."
   ]
  },
  {
   "cell_type": "code",
   "execution_count": 6,
   "metadata": {},
   "outputs": [],
   "source": [
    "# Obecna trida pro agenta\n",
    "class RandomAgent:\n",
    "    def __init__(self, actions):\n",
    "        self.actions = actions\n",
    "        self.train = True\n",
    "    \n",
    "    def act(self, observe, reward, done):\n",
    "        return self.actions.sample()\n",
    "    \n",
    "    def reset(self):\n",
    "        pass"
   ]
  },
  {
   "cell_type": "markdown",
   "metadata": {},
   "source": [
    "Zkusíme si napsat trénovací cyklus. Každá iterace for cyklu je jedna hra s novým náhodným začátkem (kolem minima). Ve while cyklu se trénují přechody mezi stavy agenta. Zároveň si pamatujeme celkovou odměnu a číslo kroku (jeden krok je provedení jedné akce), které se nám bude hodit pro logování trénovacích cyklu. K tomu, aby se agent mohl něco učit musí získávat od prostředí nějakou odměnu. V tomto příkladu by měl agent dostávat v každém kroku odměnu -1, když není v cílovém stavu a 0 pokud v něm je. Snižující se suma odměn totiž agenta nutí, aby prohledával prostředí, a tedy vyjel nahoru co nejdříve."
   ]
  },
  {
   "cell_type": "code",
   "execution_count": 7,
   "metadata": {},
   "outputs": [],
   "source": [
    "agent = RandomAgent(env.action_space)\n",
    "total_rewards = []\n",
    "for i in range(1000):\n",
    "    obs = env.reset()\n",
    "    agent.reset()    \n",
    "    done = False\n",
    "    \n",
    "    r = 0\n",
    "    R = 0 # celkova odmena - jen pro logovani\n",
    "    t = 0 # cislo kroku - jen pro logovani\n",
    "    \n",
    "    while not done:\n",
    "        action = agent.act(obs, r, done)\n",
    "        obs, r, done, _ = env.step(action)\n",
    "        R += r\n",
    "        t += 1\n",
    "        \n",
    "    total_rewards.append(R)    \n",
    "agent.train = False"
   ]
  },
  {
   "cell_type": "markdown",
   "metadata": {},
   "source": [
    "Na konec si zobrazíme animaci a graf učení, abychom viděli, jak se náš agent učil. Vidíme, že se moc neučil, což dává smysl, protože nemá implementované žádné rozumné učící se tělo (akce se vybírají náhodně). "
   ]
  },
  {
   "cell_type": "code",
   "execution_count": 8,
   "metadata": {},
   "outputs": [
    {
     "data": {
      "image/png": "[encoded data removed]",
      "text/plain": [
       "<Figure size 432x288 with 1 Axes>"
      ]
     },
     "metadata": {
      "needs_background": "light"
     },
     "output_type": "display_data"
    }
   ],
   "source": [
    "utils.show_animation(agent, env, steps=1000, episodes=5)\n",
    "plt.plot(utils.moving_average(total_rewards, 10))\n",
    "plt.show() \n",
    "\n",
    "env.close()"
   ]
  },
  {
   "cell_type": "markdown",
   "metadata": {},
   "source": [
    "## Úkol na cvičení\n",
    "\n",
    "Zkuste si místo náhodného agenta naprogramovat třídu agenta pomocí Q-učení, který se učí chovat v prostředí MountainCar. Dejte pozor na to, že prostředí vrací jako stav spojité hodnoty (poloha i rychlost jsou obě spojité), takže je třeba si z nich nějak udělat prostředí diskrétní (tedy s konečným množstvím stavů). Čím menší budou diskretizované intervaly, tím bude učení přesnější, ale tím déle bude trvat, takže je potřeba najít nějakou rozumnou hranici (ideálně vyzkoušením více hodnot). Dále můžete také experimentovat s dalšími parametry, například měnit maximální počty kroků, případně hodnotu odměny a pozorovat, jak se bude učení měnit.\n",
    "\n",
    "Při implementaci můžete vycházet z následujícího interface (ale nemusíte)."
   ]
  },
  {
   "cell_type": "code",
   "execution_count": 9,
   "metadata": {},
   "outputs": [],
   "source": [
    "class StateDiscretizer:\n",
    "  # predani rozmeru prostredi a spojitych stavu a jejich rozdeleni na diskretni intervaly\n",
    "    def __init__(self, ranges, states):\n",
    "        pass\n",
    "    \n",
    "    # prirazeni stavu do spravneho intervalu\n",
    "    def transform(self, obs):\n",
    "        pass\n",
    "        \n",
    "class QLearningAgent:\n",
    "    # nastaveni moznych akci - L, N, R   \n",
    "    # diskretizace stavu prostredi\n",
    "    # definice matice uzitku Q[stavy, akce]\n",
    "    # promenna na zapamatovani si minuleho stavu a minule akce\n",
    "    # donastaveni dalsich parametru trenovani\n",
    "    def __init__(self, actions, state_transformer, train=True):\n",
    "        pass\n",
    "    \n",
    "    # na zaklade stavu a akce se vybira nova akce\n",
    "    # 1. najde se nejlepsi akce pro dany stav\n",
    "    # 2. s malou pravd. vezme nahodnou\n",
    "    # 3. updatuje se Q matice\n",
    "    def act(self, observe, reward, done):\n",
    "        pass\n",
    "\n",
    "    # reset minuleho stavu a akce na konci epizody\n",
    "    def reset(self):\n",
    "        pass"
   ]
  },
  {
   "cell_type": "code",
   "execution_count": null,
   "metadata": {},
   "outputs": [],
   "source": []
  }
 ],
 "metadata": {
  "kernelspec": {
   "display_name": "Python 3",
   "language": "python",
   "name": "python3"
  },
  "language_info": {
   "codemirror_mode": {
    "name": "ipython",
    "version": 3
   },
   "file_extension": ".py",
   "mimetype": "text/x-python",
   "name": "python",
   "nbconvert_exporter": "python",
   "pygments_lexer": "ipython3",
   "version": "3.8.5"
  }
 },
 "nbformat": 4,
 "nbformat_minor": 2
}
