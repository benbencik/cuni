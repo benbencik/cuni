{
 "cells": [
  {
   "cell_type": "markdown",
   "metadata": {},
   "source": [
    "# Evoluční algoritmy - spojitá a kombinatorická optimalizace\n",
    "\n",
    "Minule jsme si ukazovali jednoduchý genetický algoritmus, který pracoval s binárními jedinci. Dnes se podíváme na spojité a celočíselné reprezentace jedinců a na další druhy evolučních operátorů.\n",
    "\n",
    "## Minimalizace Rastrigin funkce\n",
    "\n",
    "V následujícím cvičení si vyzkoušíme napsat jednoduchý evoluční algoritmus pro minimalizace [Rastrigin funkce](https://en.wikipedia.org/wiki/Rastrigin_function). Tato funkce je typickým příkladem nelineární funkce a běžně se používá při testování chování optimalizačních algoritmů. Nalezení jejího globálního minima je složité, protože obsahuje spoustu lokálních minim. Globální minimum se nachází v bodě 0."
   ]
  },
  {
   "cell_type": "code",
   "execution_count": 1,
   "metadata": {},
   "outputs": [],
   "source": [
    "import numpy as np\n",
    "import random\n",
    "import copy\n",
    "import math\n",
    "%matplotlib inline\n",
    "import matplotlib.pyplot as plt"
   ]
  },
  {
   "cell_type": "markdown",
   "metadata": {},
   "source": [
    "Nejprve si definujem, jak tedy vypadá ona výše zmíněná funkce, kterou budeme chtít minimalizovat a naimplementujeme podle toho fitness. Hodnota fitness je vlastně hodnota rastrigin funkce v daném bodě, který jedinec reprezentuje. Protože evoluční algoritmus je maximalizační algoritmus, obrátíme znaménko u výsledné hodnoty funkce."
   ]
  },
  {
   "cell_type": "code",
   "execution_count": 2,
   "metadata": {},
   "outputs": [],
   "source": [
    "def fitness(individual):\n",
    "    N = len(individual)\n",
    "    A = 10\n",
    "    value = A*N\n",
    "    for i in range(0,len(individual)):\n",
    "        value += individual[i]**2 - A*math.cos(2*math.pi*individual[i])\n",
    "    return -value"
   ]
  },
  {
   "cell_type": "markdown",
   "metadata": {},
   "source": [
    "Potom je třeba si rozmyslet, jak bude vypadat jedinec. Bude to bude floating point vektor, kde hodnoty budou čísla z intervalu [-5.12,5.12] podle definičního oboru rastrigin funkce. Napíšeme si tedy funkci na vytvoření náhodné populace."
   ]
  },
  {
   "cell_type": "code",
   "execution_count": 3,
   "metadata": {},
   "outputs": [],
   "source": [
    "def random_population(population_size, individual_size):\n",
    "    population = []\n",
    "    \n",
    "    for i in range(0,population_size):\n",
    "        individual = np.random.uniform(-5.12, 5.12, size=(individual_size,))\n",
    "        population.append(individual)\n",
    "        \n",
    "    return population"
   ]
  },
  {
   "cell_type": "markdown",
   "metadata": {},
   "source": [
    "Pro vytvořenou populaci jedinců si napíšeme svoje operátory křížení a mutace. Křížení může být aritmetické, například vážený průměr dvou jedinců, nebo strukturální, kdy opět prohazujeme části jedinců. Zde si zkusíme naimplementovat aritmetické křížení pomocí průměrů hodnot ze dvou vybraných jedinců."
   ]
  },
  {
   "cell_type": "code",
   "execution_count": 4,
   "metadata": {},
   "outputs": [],
   "source": [
    "def crossover_mean(population, cross_prob=0.8, alpha=0.25):\n",
    "    new_population = []\n",
    "    \n",
    "    for j in range(0,len(population)//2):\n",
    "        indiv1 = copy.deepcopy(population[2*j])\n",
    "        indiv2 = copy.deepcopy(population[2*j+1])\n",
    "        child1 = indiv1\n",
    "        child2 = indiv2\n",
    "        if random.random()<cross_prob:\n",
    "            for i in range(0, len(indiv1)):\n",
    "                child1[i] = alpha*indiv1[i] + (1-alpha)*indiv2[i]\n",
    "                child2[i] = (1-alpha)*indiv1[i] + alpha*indiv2[i]\n",
    "        new_population.append(child1)\n",
    "        new_population.append(child2)\n",
    "        \n",
    "    return new_population"
   ]
  },
  {
   "cell_type": "markdown",
   "metadata": {},
   "source": [
    "Mutace může být buď netížená, což znamená, že se pro mutovanou pozici vygeneruje nové číslo z daného rozsahu hodnot, nebo zatížená, kdy k hodnotě v jedinci přičtu nějaké číslo z normálního rozdělení s danou odchylkou (například 1) a nulovou střední hodnotou. Vyzkoušíme si zda naimplementovat nezatíženou mutaci, která pro mutovanou pozici vybere nové náhodné číslo z rozsahu možných hodnot rastrigin funkce."
   ]
  },
  {
   "cell_type": "code",
   "execution_count": 5,
   "metadata": {},
   "outputs": [],
   "source": [
    "def mutation_switch(population,individual_mutation_prob=0.2,value_mutation_prob=0.1):\n",
    "    new_population = []\n",
    "    for j in range(0,len(population)):\n",
    "        individual = copy.deepcopy(population[j])\n",
    "        if random.random() < individual_mutation_prob:\n",
    "            for i in range(0,len(individual)):\n",
    "                if random.random() < value_mutation_prob:\n",
    "                    individual[i] = np.random.uniform(-5.12, 5.12)\n",
    "        new_population.append(individual)\n",
    "    return new_population"
   ]
  },
  {
   "cell_type": "markdown",
   "metadata": {},
   "source": [
    "Na závěr si definujeme ještě selekci. Tentokrát si vyzkoušíme turnajovou selekci, kdy se náhodně vybere k jedinců z populace a udělá se mezi nimi turnaj a vybere se ten s nejlepší fitness. Tato selekce má oproti ruletové velkou výhodu -- nezávisí na hodnotě fitness, ale pouze na pořadí jedinců v populaci podle fitness. Tedy nám nevadí, že vracíme zápornou hodnotu fitness a selekce se nám nerozbije."
   ]
  },
  {
   "cell_type": "code",
   "execution_count": 6,
   "metadata": {},
   "outputs": [],
   "source": [
    "def selection(population,fitness_value, k): \n",
    "    new_population = []\n",
    "    for i in range(0,len(population)):\n",
    "        individuals = []\n",
    "        fitnesses = []\n",
    "        for _ in range(0,k):\n",
    "            idx = random.randint(0,len(population)-1)\n",
    "            individuals.append(population[idx])\n",
    "            fitnesses.append(fitness_value[idx])\n",
    "        new_population.append(copy.deepcopy(individuals[np.argmax(fitnesses)]))\n",
    "    return new_population "
   ]
  },
  {
   "cell_type": "markdown",
   "metadata": {},
   "source": [
    "Nyní si stejně jako v minulé hodině definujeme celý evoluční algoritmus a pak ho pustíme a sledujeme, co se bude dít."
   ]
  },
  {
   "cell_type": "code",
   "execution_count": 7,
   "metadata": {},
   "outputs": [],
   "source": [
    "def evolution(population_size, individual_size, max_generations):\n",
    "    max_fitness = []\n",
    "    population = random_population(population_size,individual_size)\n",
    "    \n",
    "    for i in range(0,max_generations):\n",
    "        fitness_value = list(map(fitness, population))\n",
    "        max_fitness.append(max(fitness_value))\n",
    "        parents = selection(population,fitness_value,2)\n",
    "        children = crossover_mean(parents)\n",
    "        mutated_children = mutation_switch(children)\n",
    "        population = mutated_children\n",
    "        \n",
    "    # spocitame fitness i pro posledni populaci\n",
    "    fitness_value = list(map(fitness, population))\n",
    "    max_fitness.append(max(fitness_value))\n",
    "    best_individual = population[np.argmax(fitness_value)]\n",
    "    \n",
    "    return best_individual, population, max_fitness"
   ]
  },
  {
   "cell_type": "code",
   "execution_count": 12,
   "metadata": {
    "scrolled": true
   },
   "outputs": [
    {
     "name": "stdout",
     "output_type": "stream",
     "text": [
      "best fitness:  -5.835752831735162\n",
      "best individual:  [ 0.01750973 -0.03186292 -0.01181356  0.07202005 -0.94675149 -1.01268809\n",
      "  0.9479678   0.00802209 -0.05204591  0.01635687]\n"
     ]
    },
    {
     "data": {
      "text/plain": [
       "Text(0.5, 0, 'Generace')"
      ]
     },
     "execution_count": 12,
     "metadata": {},
     "output_type": "execute_result"
    },
    {
     "data": {
      "image/png": "[encoded data removed]",
      "text/plain": [
       "<Figure size 432x288 with 1 Axes>"
      ]
     },
     "metadata": {
      "needs_background": "light"
     },
     "output_type": "display_data"
    }
   ],
   "source": [
    "best, population, max_fitness = evolution(population_size=100,individual_size=10,max_generations=100)\n",
    "\n",
    "print('best fitness: ', fitness(best))\n",
    "print('best individual: ', best)\n",
    "\n",
    "\n",
    "plt.plot(max_fitness)\n",
    "plt.ylabel('Fitness')\n",
    "plt.xlabel('Generace')\n"
   ]
  },
  {
   "cell_type": "markdown",
   "metadata": {},
   "source": [
    "## Úkol na cvičení\n",
    "\n",
    "V kódu výše je naprogramovaná nejjednodušší mutace -- nezatížená. Zkuste si napsat alespoň dva další druhy mutace z následujích možností a porovnat, jak se bude evoluční algoritmus chovat.\n",
    "1. Zatížená mutace, kdy se k hodnotě v jedinci přičítá číslo z normalního rozdělení se střední hodnotou 0 a rozptylem sigma. Sigma se třeba navíc může během každých n generací postupně snižovat. \n",
    "\n",
    "2. Mutace s 1/5 pravidlem, která se používá hlavně u evolučních strategií a probíhá podobně jako zatížená mutace: přičítá k hodnotě číslo z náhodného rozdělení s 0 střední hodnotou a rozptylem sigma. Sigma se updatuje v každém kroku následovně: máme jedince a podíváme se, kolik je v populaci jedinců lepších než ten náš. Sigmu pak upravíme pomocí jednoduché rovnice: sigma = sigma * e^(počet_lepších_jedinců/počet_všech_jedinců-1/5).\n",
    "\n",
    "3. Mutace z diferenciální evoluce, která vybere náhodně pro daného jedince dva další a složku po složce dělá rozdíl jejich hodnot a ten navíc vynásobí nějakou konstantou (třeba 0.8) a to pak přičte k hodnotám v původním jedinci. \n",
    "\n",
    "Můžete samozřejmě zkusit vymyslet i nějakou vlastní mutaci, nebo třeba zkusit vypnout mutaci nebo vypnout křížení a sledovat, co se bude s evolucí dít.\n",
    "\n",
    "\n"
   ]
  },
  {
   "cell_type": "markdown",
   "metadata": {},
   "source": [
    "## Deap knihovna\n",
    "\n",
    "Nyní si opět vyzkoušíme přepsat výše zmíněný problém minimalizace rastrigin funkce pomocí operátorů knihovny deap, abychom si lépe vyzkoušeli, jak se s ní pracuje a jak v ní tvořit svoje vlastní operátory, které se nám budou hodit příští hodinu u genetického programování (to už to bez něj totiž opravdu tak snadno nepůjde)."
   ]
  },
  {
   "cell_type": "code",
   "execution_count": 13,
   "metadata": {},
   "outputs": [],
   "source": [
    "from deap import base\n",
    "from deap import creator\n",
    "from deap import tools\n",
    "from deap import algorithms"
   ]
  },
  {
   "cell_type": "markdown",
   "metadata": {},
   "source": [
    "Pro jistotu si znovu definujeme vlastní funkce mutace, křížení a fitness funkci. Mutace bude opět nezatížená a křížení zůstane pomocí průměru dvou hodnot."
   ]
  },
  {
   "cell_type": "code",
   "execution_count": 14,
   "metadata": {},
   "outputs": [],
   "source": [
    "def rastring_function(individual):\n",
    "    N = len(individual)\n",
    "    A = 10\n",
    "    value = A*N\n",
    "    for i in range(0,len(individual)):\n",
    "        value += individual[i]**2 - A*math.cos(2*math.pi*individual[i])\n",
    "    return value,\n",
    "\n",
    "def mutation_switch(individual,indpb):\n",
    "    for i in range(0,len(individual)):\n",
    "        if random.random() < indpb:\n",
    "            individual[i] = np.random.uniform(-5.12, 5.12)\n",
    "    return individual,\n",
    "\n",
    "def crossover_mean(individual1, individual2, alpha=0.25):\n",
    "    child1 = individual1\n",
    "    child2 = individual2\n",
    "    for i in range(0, len(individual1)):\n",
    "        child1[i] = alpha*individual1[i] + (1-alpha)*individual2[i]\n",
    "        child2[i] = (1-alpha)*individual1[i] + alpha*individual2[i]\n",
    "    return child1, child2"
   ]
  },
  {
   "cell_type": "markdown",
   "metadata": {},
   "source": [
    "Pak si zadefinujeme nový toolbox a přídáme do něj naše operátory. "
   ]
  },
  {
   "cell_type": "code",
   "execution_count": 15,
   "metadata": {},
   "outputs": [],
   "source": [
    "creator.create(\"FitnessMin\", base.Fitness, weights=(-1.0,)) # -1 protoze chci minimalizovat funkci\n",
    "creator.create(\"Individual\", list, fitness=creator.FitnessMin)\n",
    "\n",
    "toolbox = base.Toolbox()\n",
    "\n",
    "toolbox.register(\"attr_float\", random.uniform,-5.12, 5.12)\n",
    "toolbox.register(\"individual\", tools.initRepeat, creator.Individual, toolbox.attr_float, n=4)\n",
    "toolbox.register(\"population\", tools.initRepeat, list, toolbox.individual)\n",
    "\n",
    "toolbox.register(\"evaluate\", rastring_function)\n",
    "toolbox.register(\"mate\", crossover_mean)\n",
    "toolbox.register(\"mutate\", mutation_switch, indpb=0.1)\n",
    "toolbox.register(\"select\", tools.selTournament, tournsize=3)"
   ]
  },
  {
   "cell_type": "markdown",
   "metadata": {},
   "source": [
    "Na závěr pustíme celou eveluci a můžeme sledovat, jak se nám hledání minima daří, nebo nedaří."
   ]
  },
  {
   "cell_type": "code",
   "execution_count": 16,
   "metadata": {},
   "outputs": [
    {
     "name": "stdout",
     "output_type": "stream",
     "text": [
      "gen\tnevals\tavg    \tstd    \tmin    \tmax    \n",
      "0  \t300   \t74.3233\t20.5613\t13.2622\t142.119\n",
      "1  \t247   \t55.6658\t16.5786\t13.2622\t94.1696\n",
      "2  \t248   \t48.3404\t16.8956\t11.696 \t95.4342\n",
      "3  \t267   \t45.1906\t15.0938\t7.55444\t84.1307\n",
      "4  \t246   \t40.1412\t14.6952\t3.76348\t77.7291\n",
      "5  \t266   \t36.7523\t14.4959\t3.76348\t95.956 \n",
      "6  \t248   \t34.6769\t15.1084\t5.72705\t78.8974\n",
      "7  \t253   \t33.4108\t15.2725\t5.72705\t80.3214\n",
      "8  \t246   \t31.9519\t14.4094\t5.72705\t83.8836\n",
      "9  \t254   \t30.6958\t13.6793\t3.51223\t82.7109\n",
      "10 \t246   \t28.3451\t13.327 \t3.51223\t70.3441\n",
      "11 \t249   \t26.9058\t14.567 \t2.8246 \t89.9824\n",
      "12 \t241   \t22.6893\t13.9636\t1.79717\t76.608 \n",
      "13 \t251   \t17.4609\t11.8571\t1.51116\t60.6746\n",
      "14 \t257   \t10.2923\t9.85088\t1.57246\t56.764 \n",
      "15 \t241   \t4.98689\t6.69507\t1.57246\t53.3085\n",
      "16 \t261   \t3.42554\t5.92939\t1.18494\t47.6815\n",
      "17 \t257   \t3.15241\t6.20236\t1.10045\t44.1118\n",
      "18 \t245   \t3.20543\t7.16485\t1.0317 \t52.1342\n",
      "19 \t252   \t2.25103\t5.66638\t1.01359\t70.1554\n",
      "20 \t251   \t2.28064\t5.7317 \t1.01359\t53.3321\n",
      "21 \t265   \t2.61854\t6.47813\t1.00867\t53.7997\n",
      "22 \t257   \t2.66766\t6.75641\t1.00325\t50.7702\n",
      "23 \t255   \t3.06659\t7.4108 \t1.00338\t44.656 \n",
      "24 \t252   \t2.02478\t4.48298\t1.00286\t32.8923\n",
      "25 \t255   \t2.3912 \t5.80537\t1.00289\t40.9795\n",
      "26 \t239   \t2.19178\t5.60431\t1.00206\t50.8921\n",
      "27 \t247   \t2.45274\t6.39748\t1.00221\t56.7613\n",
      "28 \t247   \t2.23051\t5.74947\t1.00181\t45.6742\n",
      "29 \t263   \t2.63613\t6.61585\t1.00181\t55.3695\n",
      "30 \t265   \t2.77842\t7.64514\t1.00167\t77.6842\n",
      "31 \t258   \t2.32185\t6.06083\t1.0015 \t53.5845\n",
      "32 \t254   \t2.64467\t7.33455\t1.00153\t60.1356\n",
      "33 \t246   \t2.16382\t5.77667\t1.0015 \t54.187 \n",
      "34 \t261   \t2.31501\t5.1725 \t1.0015 \t33.9609\n",
      "35 \t254   \t2.28726\t6.08499\t1.00149\t61.4747\n",
      "36 \t252   \t1.8419 \t4.63991\t1.00149\t41.1059\n",
      "37 \t259   \t2.27872\t5.60707\t1.00149\t47.3997\n",
      "38 \t255   \t3.01137\t7.59787\t1.00149\t59.3455\n",
      "39 \t254   \t1.88636\t4.26153\t0.117979\t33.8012\n",
      "40 \t254   \t2.83332\t6.70155\t0.182348\t40.835 \n",
      "41 \t240   \t2.4481 \t5.97425\t0.269693\t59.0758\n",
      "42 \t271   \t2.8444 \t8.29696\t0.276206\t66.749 \n",
      "43 \t251   \t2.43409\t7.61707\t0.276206\t68.4438\n",
      "44 \t262   \t2.4503 \t7.97203\t0.297645\t76.9982\n",
      "45 \t251   \t1.93229\t6.4513 \t0.297645\t51.0896\n",
      "46 \t258   \t2.23128\t7.13323\t0.297645\t43.3694\n",
      "47 \t270   \t2.03215\t6.81599\t0.302892\t39.8565\n",
      "48 \t253   \t2.46196\t7.65415\t0.302892\t46.1815\n",
      "49 \t261   \t1.42213\t4.98425\t0.302892\t40.3301\n",
      "50 \t267   \t2.01583\t6.553  \t0.302892\t40.4496\n",
      "51 \t251   \t1.68431\t6.82794\t0.30377 \t60.6138\n",
      "52 \t258   \t1.74107\t5.39026\t0.304421\t31.4287\n",
      "53 \t255   \t1.73407\t6.44694\t0.304421\t56.8397\n",
      "54 \t247   \t1.76127\t6.78802\t0.304851\t60.6793\n",
      "55 \t251   \t2.49665\t7.63477\t0.304994\t63.7773\n",
      "56 \t250   \t2.08779\t7.36177\t0.304994\t52.6006\n",
      "57 \t243   \t1.10281\t4.40447\t0.304994\t36.6208\n",
      "58 \t246   \t2.32961\t7.68415\t0.305017\t52.0442\n",
      "59 \t226   \t0.956467\t4.31909\t0.305017\t48.8512\n",
      "60 \t230   \t1.98163 \t6.57437\t0.305017\t58.0099\n",
      "61 \t263   \t1.57153 \t5.98061\t0.305017\t64.2201\n",
      "62 \t255   \t2.33755 \t6.95652\t0.305017\t45.7912\n",
      "63 \t248   \t2.33196 \t7.12816\t0.305018\t47.8666\n",
      "64 \t246   \t2.58186 \t8.33914\t0.305018\t62.759 \n",
      "65 \t256   \t1.55391 \t7.23642\t0.305018\t81.1271\n",
      "66 \t243   \t1.30623 \t5.20238\t0.305018\t43.5647\n",
      "67 \t254   \t1.37334 \t4.90038\t0.305018\t37.9644\n",
      "68 \t260   \t1.79361 \t5.74635\t0.305018\t38.1906\n",
      "69 \t245   \t1.23578 \t4.85182\t0.305018\t40.2017\n",
      "70 \t239   \t1.82207 \t6.87009\t0.305018\t63.8084\n",
      "71 \t246   \t1.45744 \t5.80727\t0.305018\t55.6407\n",
      "72 \t271   \t1.94248 \t7.09458\t0.305018\t67.1627\n",
      "73 \t247   \t2.33049 \t8.21572\t0.305018\t64.4175\n",
      "74 \t261   \t1.82263 \t6.22643\t0.305018\t58.0187\n",
      "75 \t254   \t1.48694 \t5.5894 \t0.305019\t54.675 \n",
      "76 \t256   \t1.44172 \t5.16086\t0.305019\t39.4556\n",
      "77 \t258   \t2.17552 \t7.45109\t0.305019\t44.9467\n",
      "78 \t258   \t1.72165 \t7.11999\t0.305019\t82.4131\n",
      "79 \t235   \t1.27298 \t4.76435\t0.305019\t37.3908\n",
      "80 \t245   \t1.73309 \t6.45143\t0.305019\t64.5257\n",
      "81 \t249   \t1.81473 \t7.56864\t0.305019\t75.7735\n",
      "82 \t252   \t1.83851 \t6.39959\t0.305019\t42.2026\n",
      "83 \t266   \t1.68079 \t6.08711\t0.305019\t45.9881\n",
      "84 \t258   \t1.38153 \t5.85468\t0.305019\t58.8338\n",
      "85 \t248   \t1.64479 \t6.03397\t0.305019\t44.7998\n",
      "86 \t246   \t1.64763 \t6.89728\t0.305019\t68.6484\n",
      "87 \t255   \t2.00163 \t6.88766\t0.305019\t50.272 \n",
      "88 \t244   \t1.87138 \t6.6891 \t0.305019\t63.5272\n",
      "89 \t247   \t1.78895 \t7.42732\t0.305019\t62.0922\n",
      "90 \t259   \t1.99852 \t6.35594\t0.305019\t41.4796\n",
      "91 \t261   \t1.16354 \t4.40865\t0.305019\t38.5564\n",
      "92 \t266   \t1.96052 \t6.88091\t0.305019\t72.4799\n",
      "93 \t244   \t1.91504 \t7.23969\t0.305019\t63.214 \n",
      "94 \t255   \t1.68805 \t5.96847\t0.305019\t57.4398\n",
      "95 \t252   \t2.10957 \t7.14022\t0.305019\t45.5585\n",
      "96 \t261   \t0.956569\t3.93298\t0.305019\t31.0561\n",
      "97 \t256   \t1.79948 \t6.79711\t0.305019\t55.9718\n",
      "98 \t244   \t2.04759 \t6.81673\t0.305019\t43.1699\n",
      "99 \t265   \t1.5975  \t6.21824\t0.305019\t54.9169\n",
      "100\t245   \t1.5296  \t6.10485\t0.305019\t60.3432\n"
     ]
    }
   ],
   "source": [
    "pop = toolbox.population(n=300)\n",
    "hof = tools.HallOfFame(1)\n",
    "stats = tools.Statistics(lambda ind: ind.fitness.values)\n",
    "stats.register(\"avg\", np.mean)\n",
    "stats.register(\"std\", np.std)\n",
    "stats.register(\"min\", np.min)\n",
    "stats.register(\"max\", np.max)\n",
    "\n",
    "pop, log = algorithms.eaSimple(pop, toolbox, cxpb=0.8, mutpb=0.2, ngen=100,\n",
    "                               stats=stats, halloffame=hof, verbose=True)"
   ]
  },
  {
   "cell_type": "markdown",
   "metadata": {},
   "source": [
    "## Domácí úkol - Batoh\n",
    "\n",
    "Za domácí úkol budete mít vyřešit pomocí evolučního algoritmu problém batohu. Ten spočívá v tom, že máme batoh kapacity K a N předmětů, každý s cenou c<sub>i</sub> a objemem v<sub>i</sub> a chceme vybrat takové věci, abychom maximalizovali zisk a zároveň abychom nepřekročili kapacitu batohu. \n",
    "\n",
    "Vstupní data máte ve složce *domaci_ukol_data*. Obsahuje čtyři soubory s daty a dva s výsledky. Na první řádce souboru s daty je vždy počet předmětů a kapacita batohu oddělené mezerou, každý další následující řádek obsahuje cenu a objem předmětu taktéž oddělené mezerou. První dva soubory slouží pro snažší odladění evolučního algoritmu a obsahují i k sobě extra soubory s optimálním řešením. Na dalších dvou máte za úkol algoritmus pustit a výsledky na nich naměřené mi poslat. \n",
    "\n",
    "Napište tedy nějaký svůj evoluční algoritmus, který bude řešit problém batohu a pusťte ho na vstupních datech. Svůj kód, popis evolučního algoritmu (zvolené evoluční operátory, kódování jedince, atd.) a rozbor výsledků, včetně nejlepšího dosaženého skóre i s jejich odůvodněním mi pošlete emailem do stanoveného deadline.  Pro sepsání popisu vašeho evolučního algoritmu, parametrů evoluce, zvolené reprezentace jedince a rozboru výsledků použijte [tento template](https://github.com/kackamac/Prirodou-inspirovane-algoritmy/blob/master/04_spojita_reprezentace/DU1_evolucni_algoritmy.pdf)."
   ]
  },
  {
   "cell_type": "code",
   "execution_count": null,
   "metadata": {},
   "outputs": [],
   "source": []
  }
 ],
 "metadata": {
  "kernelspec": {
   "display_name": "Python 3",
   "language": "python",
   "name": "python3"
  },
  "language_info": {
   "codemirror_mode": {
    "name": "ipython",
    "version": 3
   },
   "file_extension": ".py",
   "mimetype": "text/x-python",
   "name": "python",
   "nbconvert_exporter": "python",
   "pygments_lexer": "ipython3",
   "version": "3.8.5"
  }
 },
 "nbformat": 4,
 "nbformat_minor": 2
}
