{
 "cells": [
  {
   "cell_type": "markdown",
   "metadata": {},
   "source": [
    "# Evoluční algoritmy - Genetické programování"
   ]
  },
  {
   "cell_type": "markdown",
   "metadata": {},
   "source": [
    "Dneska se podíváme na jednoduché genetické programování. Vyzkoušíme si ho na problému symbolické regrese, kdy bude naším cílem nalézt vzoreček, který bude nejlépe odpovídat zadaným datům, a klasifikace, kdy budeme hledat rozhodovací strom pomocí genetického programování.\n",
    "\n",
    "K tomuto budeme používat knihovnu deap, kterou jsme si ukázali minule."
   ]
  },
  {
   "cell_type": "code",
   "execution_count": 1,
   "metadata": {},
   "outputs": [],
   "source": [
    "%matplotlib inline\n",
    "import numpy as np\n",
    "import matplotlib.pyplot as plt\n",
    "import pydot\n",
    "from IPython.display import Image\n",
    "\n",
    "import operator\n",
    "from deap import gp\n",
    "from deap import creator, base, tools, algorithms\n",
    "\n",
    "import pydot\n",
    "from IPython.display import Image"
   ]
  },
  {
   "cell_type": "markdown",
   "metadata": {},
   "source": [
    "Nejprve si vygenerujeme data v nějakém rozumném rozsahu a k nim odpovídající labely, například pomocí funkce sinus. Pro ně pak budeme chtít najít vzoreček regrese, který jim bude nejlépe odpovídat."
   ]
  },
  {
   "cell_type": "code",
   "execution_count": 2,
   "metadata": {},
   "outputs": [
    {
     "data": {
      "image/png": "[encoded data removed]",
      "text/plain": [
       "<Figure size 432x288 with 1 Axes>"
      ]
     },
     "metadata": {
      "needs_background": "light"
     },
     "output_type": "display_data"
    }
   ],
   "source": [
    "x_train = np.linspace(-5, 5, 100)\n",
    "y_train = x_train*x_train + x_train + np.sin(4*x_train)\n",
    "\n",
    "plt.scatter(x_train, y_train,s=7,c='r')\n",
    "plt.show()"
   ]
  },
  {
   "cell_type": "markdown",
   "metadata": {},
   "source": [
    "Pro práci s genetickým algoritmem budeme potřebovat vyvořit množinu terminálů a neterminálů, se kterými bude evoluce pracovat. K tomu v knihovně deap existuje třída `gp.PrimitiveSet`, případně `gp.PrimitiveSetTyped` pro typované GP. V našem příkladu použijeme tu typovanou verzi, protože je obecnější. Jelikož ale budeme používat jen jeden typ jedinců, šla by použít i netypovaná verze. Jako terminály si definujeme konstanty 0,1,2, zbytek se dovytvoří z nich během evoluce. Jako neterminály budeme potřebovat operace sčítání, násobení a sinus, a protože zbylé operace se ve vzorečku nevyskytují, nebudeme si jimi zbytečně komplikovat život."
   ]
  },
  {
   "cell_type": "code",
   "execution_count": 3,
   "metadata": {},
   "outputs": [],
   "source": [
    "# mnozina se jmenuje MAIN, vstup je jeden float, vystup je taky jeden float\n",
    "pset = gp.PrimitiveSetTyped('MAIN', [float], float) \n",
    "\n",
    "# terminaly\n",
    "pset.addTerminal(1.0, float)\n",
    "pset.addTerminal(2.0, float)\n",
    "pset.addTerminal(0.0, float)\n",
    "\n",
    "\n",
    "# neterminaly\n",
    "pset.addPrimitive(np.sin, [float], float)\n",
    "pset.addPrimitive(operator.add, [float, float], float)\n",
    "pset.addPrimitive(operator.mul, [float, float], float)\n",
    "#pset.addPrimitive(operator.sub, [float, float], float)\n",
    "#pset.addPrimitive(np.cos, [float], float)\n",
    "#pset.addPrimitive(operator.truediv, [float, float], float)"
   ]
  },
  {
   "cell_type": "markdown",
   "metadata": {},
   "source": [
    "Když máme vytvořené terminály a neterminály, můžeme si definovat jedince, fitness funkci a genetické operátory. Jedince vygenerujeme jako náhodné stromy z množiny primitiv a nastavíme jim počáteční minimální a maximální hloubku. Fitness funkce bude MSE (Mean Squared Error), která počítá střední hodnoty druhých mocnin rozdílů mezi predikovanou výstupní hodnotou a skutečnou výstupní hodnotou, tedy čtvercovou vzdálenost jak daleko je predikovaný výstup od skutečného. Nastavíme jí váhu -1, protože chceme chybu minimalizovat. Zároveň nastavíme i váhu -0.01, která penalizuje počet uzlů ve stromu, abychom evoluci nutili k vytváření spíše menších jedinců. Selekci použijeme turnajovou, křížení jednobodové, kdy se klasicky náhodně zvolí bod a v něm se prohodí části podstromů, a uniformní mutaci, která náhodně vybere místo v jedinci a nahradí podstrom za kořen výrazu vygenerovanou pomocí metody ```expr()``` na základě definovaných operací a konstant. Zároveň přidáme limity na hloubku stromu pri křížení a mutaci, aby nám stromy zbytečně nebobtnaly."
   ]
  },
  {
   "cell_type": "code",
   "execution_count": 4,
   "metadata": {},
   "outputs": [],
   "source": [
    "# definujeme fitness \n",
    "def fitness(ind, x, y):\n",
    "    func = toolbox.compile(expr=ind) # vytvorime funkci podle jedince\n",
    "    vals = list(map(func, x)) # zavolame funkci na data\n",
    "    return np.sqrt(np.dot(vals-y, vals-y)), len(ind) #spocitame chybu pomoci MSE\n",
    "\n",
    "# vytvorime tridy pro jedince\n",
    "creator.create(\"FitnessMin\", base.Fitness, weights=(-1.0, -0.01))\n",
    "creator.create(\"Individual\", gp.PrimitiveTree, fitness=creator.FitnessMin)\n",
    "\n",
    "# nastavime algoritmus\n",
    "toolbox = base.Toolbox()\n",
    "toolbox.register(\"expr\", gp.genHalfAndHalf, pset=pset, type_=float, min_=3, max_=10)\n",
    "toolbox.register(\"individual\", tools.initIterate, creator.Individual, toolbox.expr)\n",
    "toolbox.register(\"population\", tools.initRepeat, list, toolbox.individual)\n",
    "toolbox.register(\"compile\", gp.compile, pset=pset)\n",
    "\n",
    "toolbox.register(\"evaluate\", fitness, x=x_train, y=y_train)\n",
    "toolbox.register(\"select\", tools.selTournament, tournsize=3)\n",
    "toolbox.register(\"mate\", gp.cxOnePoint)\n",
    "toolbox.register(\"expr_mut\", gp.genFull, min_=1, max_=3)\n",
    "toolbox.register(\"mutate\", gp.mutUniform, expr=toolbox.expr_mut, pset=pset) \n",
    "\n",
    "# limity na hloubku stromu\n",
    "toolbox.decorate(\"mate\", gp.staticLimit(key=operator.attrgetter(\"height\"), max_value=17))\n",
    "toolbox.decorate(\"mutate\", gp.staticLimit(key=operator.attrgetter(\"height\"), max_value=17))"
   ]
  },
  {
   "cell_type": "markdown",
   "metadata": {},
   "source": [
    "Nyní jsme si napsali všechny potřebné operátory a definovali jsme si populaci, tak si ještě dodefinujeme nějaké statistické metody, abychom mohli sledovat vývoj evoluce a pak můžeme náš algoritmus genetického programování pustit."
   ]
  },
  {
   "cell_type": "code",
   "execution_count": 5,
   "metadata": {},
   "outputs": [
    {
     "name": "stdout",
     "output_type": "stream",
     "text": [
      "   \t      \t                    fitness                    \t                      size                     \n",
      "   \t      \t-----------------------------------------------\t-----------------------------------------------\n",
      "gen\tnevals\tavg    \tgen\tmax   \tmin    \tnevals\tstd    \tavg   \tgen\tmax\tmin\tnevals\tstd    \n",
      "0  \t1000  \t3298.82\t0  \t995428\t28.0234\t1000  \t46977.8\t70.787\t0  \t808\t4  \t1000  \t117.987\n",
      "1  \t557   \t116.391\t1  \t3762.49\t28.0234\t557   \t126.473\t49.629\t1  \t777\t2  \t557   \t93.0472\n",
      "2  \t538   \t106.139\t2  \t1348.47\t21.8382\t538   \t55.8724\t44.214\t2  \t778\t2  \t538   \t94.4042\n",
      "3  \t564   \t95.4493\t3  \t1626.23\t19.9098\t564   \t68.9521\t53.386\t3  \t779\t2  \t564   \t117.068\n",
      "4  \t560   \t85.1707\t4  \t1805.72\t11.763 \t560   \t89.9279\t93.177\t4  \t785\t3  \t560   \t165.039\n",
      "5  \t531   \t83.1135\t5  \t13673.7\t11.763 \t531   \t450.672\t161.361\t5  \t785\t2  \t531   \t202.901\n",
      "6  \t563   \t63.6016\t6  \t8970.41\t7.46224\t563   \t329.752\t268.028\t6  \t779\t5  \t563   \t196.437\n",
      "7  \t525   \t34.4643\t7  \t879.975\t7.03293\t525   \t41.4062\t343.279\t7  \t601\t3  \t525   \t159.107\n",
      "8  \t553   \t39.582 \t8  \t2601.3 \t7.03293\t553   \t102.561\t316.722\t8  \t495\t4  \t553   \t173.115\n",
      "9  \t548   \t45.5479\t9  \t7833.31\t7.03293\t548   \t254.571\t276.338\t9  \t568\t8  \t548   \t186.338\n",
      "10 \t592   \t43.4632\t10 \t2444.67\t7.03293\t592   \t133.289\t235.087\t10 \t568\t3  \t592   \t194.14 \n",
      "11 \t541   \t38.9102\t11 \t2066.21\t7.03293\t541   \t90.3975\t200.342\t11 \t544\t4  \t541   \t193.234\n",
      "12 \t560   \t64.6451\t12 \t20412.4\t7.03293\t560   \t657.039\t150.02 \t12 \t519\t2  \t560   \t177.062\n",
      "13 \t562   \t31.1992\t13 \t902.358\t9.66404e-15\t562   \t61.5571\t110.679\t13 \t492\t3  \t562   \t147.869\n",
      "14 \t545   \t37.5985\t14 \t2115.24\t9.66404e-15\t545   \t122.591\t77.013 \t14 \t483\t2  \t545   \t108.51 \n",
      "15 \t523   \t35.184 \t15 \t1950.43\t9.66404e-15\t523   \t100.594\t54.4   \t15 \t482\t3  \t523   \t74.0306\n",
      "16 \t566   \t48.6316\t16 \t3895.75\t9.66404e-15\t566   \t184.394\t40.606 \t16 \t417\t3  \t566   \t53.349 \n",
      "17 \t541   \t43.9907\t17 \t2058.45\t9.66404e-15\t541   \t127.253\t33.32  \t17 \t275\t3  \t541   \t41.9364\n",
      "18 \t527   \t43.8159\t18 \t2058.45\t0          \t527   \t126.556\t32.806 \t18 \t254\t2  \t527   \t46.5793\n",
      "19 \t541   \t51.2209\t19 \t2059.77\t0          \t541   \t160.609\t37.006 \t19 \t237\t3  \t541   \t54.6527\n",
      "20 \t571   \t61.8337\t20 \t16642.3\t0          \t571   \t545.759\t53.31  \t20 \t219\t2  \t571   \t69.464 \n",
      "21 \t566   \t33.3442\t21 \t2058.45\t0          \t566   \t114.562\t76.637 \t21 \t252\t3  \t566   \t79.0642\n",
      "22 \t538   \t29.4015\t22 \t2169.77\t0          \t538   \t115.756\t83.343 \t22 \t251\t2  \t538   \t78.8309\n",
      "23 \t560   \t29.4373\t23 \t2058.44\t0          \t560   \t100.098\t68.442 \t23 \t247\t3  \t560   \t69.9188\n",
      "24 \t540   \t31.6764\t24 \t2121.55\t0          \t540   \t128.511\t51.296 \t24 \t209\t2  \t540   \t56.6617\n",
      "25 \t567   \t34.9924\t25 \t2426.35\t0          \t567   \t142.521\t39.777 \t25 \t210\t2  \t567   \t41.3345\n",
      "26 \t531   \t23.3655\t26 \t568.001\t0          \t531   \t60.621 \t34.805 \t26 \t210\t2  \t531   \t28.9849\n",
      "27 \t508   \t32.1399\t27 \t2115.21\t0          \t508   \t144.062\t32.593 \t27 \t200\t3  \t508   \t21.8729\n",
      "28 \t570   \t39.7908\t28 \t4253.32\t0          \t570   \t194.686\t30.074 \t28 \t197\t3  \t570   \t16.9248\n",
      "29 \t536   \t34.1555\t29 \t2058.44\t0          \t536   \t131.167\t27.033 \t29 \t166\t2  \t536   \t14.4553\n",
      "30 \t567   \t46.9167\t30 \t2115.21\t0          \t567   \t185.195\t24.107 \t30 \t176\t3  \t567   \t11.0014\n",
      "31 \t515   \t38.9913\t31 \t2059.63\t0          \t515   \t149.844\t22.689 \t31 \t89 \t3  \t515   \t9.09716\n",
      "32 \t533   \t38.4394\t32 \t2058.49\t0          \t533   \t125.452\t21.02  \t32 \t91 \t2  \t533   \t7.15721\n",
      "33 \t554   \t55.5199\t33 \t2115.21\t0          \t554   \t204.277\t19.952 \t33 \t57 \t3  \t554   \t6.10047\n",
      "34 \t542   \t50.9587\t34 \t2115.21\t0          \t542   \t189.617\t19.333 \t34 \t62 \t2  \t542   \t5.7198 \n",
      "35 \t548   \t57.7505\t35 \t8670.01\t0          \t548   \t316.082\t18.621 \t35 \t52 \t2  \t548   \t5.54106\n",
      "36 \t563   \t53.968 \t36 \t2058.45\t0          \t563   \t178.344\t18.088 \t36 \t52 \t4  \t563   \t5.38964\n",
      "37 \t552   \t47.677 \t37 \t2113.81\t0          \t552   \t175.364\t17.471 \t37 \t46 \t2  \t552   \t4.5779 \n",
      "38 \t543   \t46.1489\t38 \t2115.21\t0          \t543   \t147.22 \t16.943 \t38 \t38 \t2  \t543   \t4.71166\n",
      "39 \t589   \t54.8064\t39 \t2275.78\t0          \t589   \t194.268\t16.174 \t39 \t40 \t2  \t589   \t4.62577\n",
      "40 \t574   \t41.3147\t40 \t2058.44\t0          \t574   \t126.973\t16.021 \t40 \t44 \t2  \t574   \t4.80755\n",
      "41 \t556   \t42.1545\t41 \t2058.45\t0          \t556   \t122.47 \t15.603 \t41 \t45 \t2  \t556   \t4.6769 \n",
      "42 \t537   \t38.0844\t42 \t2057.43\t0          \t537   \t122.948\t14.953 \t42 \t52 \t3  \t537   \t4.33691\n",
      "43 \t546   \t38.0137\t43 \t2115.21\t0          \t546   \t105.186\t14.588 \t43 \t52 \t2  \t546   \t4.26125\n",
      "44 \t536   \t38.6668\t44 \t4225.8 \t0          \t536   \t173.383\t13.917 \t44 \t40 \t2  \t536   \t3.94894\n",
      "45 \t564   \t39.6629\t45 \t1950.33\t0          \t564   \t104.248\t13.524 \t45 \t39 \t2  \t564   \t3.6608 \n",
      "46 \t544   \t36.9224\t46 \t2142.88\t0          \t544   \t114.368\t13.128 \t46 \t40 \t3  \t544   \t3.2329 \n",
      "47 \t543   \t40.4122\t47 \t2114.32\t0          \t543   \t107.124\t12.937 \t47 \t42 \t2  \t543   \t3.38925\n",
      "48 \t578   \t35.1907\t48 \t540.846\t0          \t578   \t76.2671\t12.844 \t48 \t42 \t2  \t578   \t3.31537\n",
      "49 \t567   \t37.8111\t49 \t942.883\t0          \t567   \t81.1968\t12.731 \t49 \t31 \t2  \t567   \t3.04674\n",
      "50 \t531   \t34.0936\t50 \t1603.51\t0          \t531   \t92.7538\t12.575 \t50 \t37 \t3  \t531   \t3.0014 \n",
      "51 \t550   \t38.6933\t51 \t3867.27\t0          \t550   \t143.044\t12.572 \t51 \t28 \t3  \t550   \t3.0494 \n",
      "52 \t573   \t37.1267\t52 \t980.153\t0          \t573   \t78.5753\t12.591 \t52 \t32 \t2  \t573   \t3.25418\n",
      "53 \t530   \t34.5097\t53 \t524.017\t0          \t530   \t76.6606\t12.582 \t53 \t27 \t2  \t530   \t3.23006\n",
      "54 \t547   \t30.6272\t54 \t500.158\t0          \t547   \t68.6142\t12.572 \t54 \t28 \t3  \t547   \t2.98108\n",
      "55 \t538   \t32.4168\t55 \t953.685\t0          \t538   \t79.2008\t12.554 \t55 \t32 \t2  \t538   \t2.99284\n",
      "56 \t524   \t35.1112\t56 \t798.381\t0          \t524   \t79.8412\t12.487 \t56 \t32 \t2  \t524   \t3.08315\n",
      "57 \t539   \t32.643 \t57 \t798.381\t0          \t539   \t73.8988\t12.606 \t57 \t31 \t2  \t539   \t3.12518\n",
      "58 \t539   \t37.1827\t58 \t1976.83\t0          \t539   \t102.689\t12.633 \t58 \t34 \t2  \t539   \t3.17275\n",
      "59 \t528   \t40.0654\t59 \t3895.65\t0          \t528   \t152.708\t12.573 \t59 \t31 \t3  \t528   \t3.10108\n",
      "60 \t560   \t38.1037\t60 \t798.381\t0          \t560   \t82.6979\t12.604 \t60 \t31 \t2  \t560   \t3.16088\n",
      "61 \t538   \t33.5616\t61 \t1950.33\t0          \t538   \t98.4588\t12.649 \t61 \t30 \t3  \t538   \t3.19841\n",
      "62 \t532   \t38.6829\t62 \t1108.65\t0          \t532   \t96.5202\t12.547 \t62 \t28 \t3  \t532   \t2.89582\n",
      "63 \t537   \t34.9978\t63 \t2058.44\t0          \t537   \t99.5365\t12.551 \t63 \t30 \t3  \t537   \t2.88815\n",
      "64 \t532   \t36.4582\t64 \t1976.83\t0          \t532   \t100.012\t12.626 \t64 \t33 \t3  \t532   \t3.04534\n",
      "65 \t564   \t34.2622\t65 \t953.685\t0          \t564   \t78.4095\t12.452 \t65 \t27 \t2  \t564   \t2.99595\n",
      "66 \t593   \t48.6436\t66 \t1950.33\t0          \t593   \t111.58 \t12.651 \t66 \t28 \t2  \t593   \t3.33125\n",
      "67 \t516   \t30.2045\t67 \t500.455\t0          \t516   \t70.0951\t12.743 \t67 \t32 \t3  \t516   \t3.4795 \n",
      "68 \t536   \t36.2737\t68 \t798.444\t0          \t536   \t85.9775\t12.779 \t68 \t35 \t2  \t536   \t3.40619\n",
      "69 \t560   \t38.0381\t69 \t1710.82\t0          \t560   \t98.5629\t12.721 \t69 \t29 \t2  \t560   \t3.31921\n",
      "70 \t515   \t33.2753\t70 \t499.931\t0          \t515   \t76.5687\t12.752 \t70 \t34 \t2  \t515   \t3.55703\n",
      "71 \t542   \t36.9697\t71 \t980.153\t0          \t542   \t87.9118\t12.619 \t71 \t32 \t2  \t542   \t3.29573\n",
      "72 \t567   \t40.5613\t72 \t3895.65\t0          \t567   \t185.683\t12.518 \t72 \t33 \t2  \t567   \t3.19056\n",
      "73 \t523   \t42.6047\t73 \t8504.19\t0          \t523   \t285.562\t12.648 \t73 \t37 \t2  \t523   \t3.34337\n",
      "74 \t570   \t35.5974\t74 \t980.153\t0          \t570   \t84.3797\t12.644 \t74 \t37 \t2  \t570   \t3.38042\n",
      "75 \t533   \t47.291 \t75 \t9899.39\t0          \t533   \t323.634\t12.576 \t75 \t39 \t3  \t533   \t3.15567\n",
      "76 \t534   \t36.4594\t76 \t501.532\t0          \t534   \t85.4505\t12.546 \t76 \t39 \t3  \t534   \t3.08608\n",
      "77 \t549   \t34.5562\t77 \t2259.03\t0          \t549   \t105.807\t12.67  \t77 \t40 \t2  \t549   \t3.47377\n",
      "78 \t533   \t37.5506\t78 \t798.381\t0          \t533   \t86.8703\t12.537 \t78 \t40 \t2  \t533   \t3.14335\n",
      "79 \t581   \t35.4012\t79 \t2058.47\t0          \t581   \t98.4785\t12.572 \t79 \t36 \t2  \t581   \t3.19763\n",
      "80 \t536   \t42.4108\t80 \t2058.44\t0          \t536   \t119.415\t12.525 \t80 \t36 \t2  \t536   \t3.18204\n",
      "81 \t548   \t36.3417\t81 \t500.201\t0          \t548   \t80.5521\t12.488 \t81 \t25 \t3  \t548   \t2.938  \n",
      "82 \t589   \t38.0528\t82 \t820.919\t0          \t589   \t78.4003\t12.497 \t82 \t30 \t2  \t589   \t3.07766\n",
      "83 \t540   \t40.729 \t83 \t1377.05\t0          \t540   \t102.753\t12.774 \t83 \t34 \t3  \t540   \t3.40748\n",
      "84 \t580   \t31.7797\t84 \t500.158\t0          \t580   \t71.4305\t12.663 \t84 \t31 \t3  \t580   \t3.17481\n",
      "85 \t565   \t36.1119\t85 \t980.153\t0          \t565   \t86.8877\t12.418 \t85 \t30 \t2  \t565   \t2.97208\n",
      "86 \t550   \t37.4224\t86 \t500.12 \t0          \t550   \t82.012 \t12.552 \t86 \t33 \t2  \t550   \t3.32856\n",
      "87 \t561   \t45.7126\t87 \t4225.8 \t0          \t561   \t161.993\t12.531 \t87 \t26 \t3  \t561   \t2.91771\n",
      "88 \t519   \t32.0864\t88 \t499.931\t0          \t519   \t69.5227\t12.496 \t88 \t28 \t2  \t519   \t2.96985\n",
      "89 \t565   \t44.2992\t89 \t2387.01\t0          \t565   \t118.354\t12.59  \t89 \t25 \t2  \t565   \t2.82735\n",
      "90 \t585   \t36.3355\t90 \t980.153\t0          \t585   \t82.8874\t12.632 \t90 \t30 \t2  \t585   \t3.18223\n",
      "91 \t522   \t33.1012\t91 \t568.918\t0          \t522   \t74.8161\t12.648 \t91 \t33 \t2  \t522   \t3.37077\n",
      "92 \t570   \t41.4591\t92 \t980.153\t0          \t570   \t93.5241\t12.505 \t92 \t28 \t2  \t570   \t3.14165\n",
      "93 \t546   \t38.3315\t93 \t570.36 \t0          \t546   \t86.2949\t12.453 \t93 \t32 \t2  \t546   \t3.10512\n",
      "94 \t581   \t40.828 \t94 \t980.153\t0          \t581   \t88.4965\t12.472 \t94 \t28 \t2  \t581   \t3.26454\n",
      "95 \t550   \t35.0492\t95 \t973.494\t0          \t550   \t84.1394\t12.483 \t95 \t37 \t3  \t550   \t3.2143 \n",
      "96 \t564   \t35.6316\t96 \t499.931\t0          \t564   \t74.6003\t12.619 \t96 \t37 \t2  \t564   \t3.26555\n",
      "97 \t579   \t42.9339\t97 \t4225.81\t0          \t579   \t157.263\t12.657 \t97 \t35 \t3  \t579   \t3.26333\n",
      "98 \t569   \t41.075 \t98 \t2973.6 \t0          \t569   \t134.389\t12.758 \t98 \t30 \t3  \t569   \t3.22761\n",
      "99 \t551   \t38.1729\t99 \t500.158\t0          \t551   \t80.0579\t12.6   \t99 \t26 \t3  \t551   \t3.00366\n",
      "100\t531   \t38.1802\t100\t1031.15\t0          \t531   \t100.795\t12.649 \t100\t31 \t5  \t531   \t2.97923\n"
     ]
    }
   ],
   "source": [
    "pop = toolbox.population(n=1000)\n",
    "hof = tools.HallOfFame(1)\n",
    "\n",
    "stats_fit = tools.Statistics(lambda ind: ind.fitness.values[0])\n",
    "stats_size = tools.Statistics(len)\n",
    "mstats = tools.MultiStatistics(fitness=stats_fit, size=stats_size)\n",
    "mstats.register(\"avg\", np.mean)\n",
    "mstats.register(\"std\", np.std)\n",
    "mstats.register(\"min\", np.min)\n",
    "mstats.register(\"max\", np.max)\n",
    "\n",
    "pop, log = algorithms.eaSimple(pop, toolbox, 0.5, 0.1, 100, stats=mstats, halloffame=hof, verbose=True)"
   ]
  },
  {
   "cell_type": "markdown",
   "metadata": {},
   "source": [
    "Vidíme, že výstup výše je sice krásný a určitě bohatě vypovídající, ale asi bychom víc ocenili nějakou vizualici. Proto si napíšeme pomocnou funkci na zobrazení vytvořeného stromu. To uděláme pomocí knihovny *pydot*, která slouží právě ke zobrazování grafů."
   ]
  },
  {
   "cell_type": "code",
   "execution_count": 6,
   "metadata": {},
   "outputs": [],
   "source": [
    "# zobrazeni jedince jako stromu\n",
    "def plot_tree(tree):\n",
    "    nodes, edges, labels = gp.graph(tree)\n",
    "    nodesDot = list(map(lambda x: pydot.Node(x, label=str(labels.get(x))),nodes))\n",
    "\n",
    "    g = pydot.Dot(graph_type='graph')\n",
    "    for node in nodesDot:\n",
    "        g.add_node(node)\n",
    "    for f,t in edges:\n",
    "        edge = pydot.Edge(nodesDot[f], nodesDot[t])\n",
    "        g.add_edge(edge)\n",
    "\n",
    "    return g.create_png()"
   ]
  },
  {
   "cell_type": "code",
   "execution_count": 7,
   "metadata": {},
   "outputs": [
    {
     "ename": "FileNotFoundError",
     "evalue": "[Errno 2] \"dot\" not found in path.",
     "output_type": "error",
     "traceback": [
      "\u001b[0;31m---------------------------------------------------------------------------\u001b[0m",
      "\u001b[0;31mFileNotFoundError\u001b[0m                         Traceback (most recent call last)",
      "File \u001b[0;32m~/.local/lib/python3.10/site-packages/pydot.py:1923\u001b[0m, in \u001b[0;36mDot.create\u001b[0;34m(self, prog, format, encoding)\u001b[0m\n\u001b[1;32m   <a href='file:///home/ben/.local/lib/python3.10/site-packages/pydot.py?line=1921'>1922</a>\u001b[0m \u001b[39mtry\u001b[39;00m:\n\u001b[0;32m-> <a href='file:///home/ben/.local/lib/python3.10/site-packages/pydot.py?line=1922'>1923</a>\u001b[0m     stdout_data, stderr_data, process \u001b[39m=\u001b[39m call_graphviz(\n\u001b[1;32m   <a href='file:///home/ben/.local/lib/python3.10/site-packages/pydot.py?line=1923'>1924</a>\u001b[0m         program\u001b[39m=\u001b[39;49mprog,\n\u001b[1;32m   <a href='file:///home/ben/.local/lib/python3.10/site-packages/pydot.py?line=1924'>1925</a>\u001b[0m         arguments\u001b[39m=\u001b[39;49marguments,\n\u001b[1;32m   <a href='file:///home/ben/.local/lib/python3.10/site-packages/pydot.py?line=1925'>1926</a>\u001b[0m         working_dir\u001b[39m=\u001b[39;49mtmp_dir,\n\u001b[1;32m   <a href='file:///home/ben/.local/lib/python3.10/site-packages/pydot.py?line=1926'>1927</a>\u001b[0m     )\n\u001b[1;32m   <a href='file:///home/ben/.local/lib/python3.10/site-packages/pydot.py?line=1927'>1928</a>\u001b[0m \u001b[39mexcept\u001b[39;00m \u001b[39mOSError\u001b[39;00m \u001b[39mas\u001b[39;00m e:\n",
      "File \u001b[0;32m~/.local/lib/python3.10/site-packages/pydot.py:132\u001b[0m, in \u001b[0;36mcall_graphviz\u001b[0;34m(program, arguments, working_dir, **kwargs)\u001b[0m\n\u001b[1;32m    <a href='file:///home/ben/.local/lib/python3.10/site-packages/pydot.py?line=129'>130</a>\u001b[0m program_with_args \u001b[39m=\u001b[39m [program, ] \u001b[39m+\u001b[39m arguments\n\u001b[0;32m--> <a href='file:///home/ben/.local/lib/python3.10/site-packages/pydot.py?line=131'>132</a>\u001b[0m process \u001b[39m=\u001b[39m subprocess\u001b[39m.\u001b[39;49mPopen(\n\u001b[1;32m    <a href='file:///home/ben/.local/lib/python3.10/site-packages/pydot.py?line=132'>133</a>\u001b[0m     program_with_args,\n\u001b[1;32m    <a href='file:///home/ben/.local/lib/python3.10/site-packages/pydot.py?line=133'>134</a>\u001b[0m     env\u001b[39m=\u001b[39;49menv,\n\u001b[1;32m    <a href='file:///home/ben/.local/lib/python3.10/site-packages/pydot.py?line=134'>135</a>\u001b[0m     cwd\u001b[39m=\u001b[39;49mworking_dir,\n\u001b[1;32m    <a href='file:///home/ben/.local/lib/python3.10/site-packages/pydot.py?line=135'>136</a>\u001b[0m     shell\u001b[39m=\u001b[39;49m\u001b[39mFalse\u001b[39;49;00m,\n\u001b[1;32m    <a href='file:///home/ben/.local/lib/python3.10/site-packages/pydot.py?line=136'>137</a>\u001b[0m     stderr\u001b[39m=\u001b[39;49msubprocess\u001b[39m.\u001b[39;49mPIPE,\n\u001b[1;32m    <a href='file:///home/ben/.local/lib/python3.10/site-packages/pydot.py?line=137'>138</a>\u001b[0m     stdout\u001b[39m=\u001b[39;49msubprocess\u001b[39m.\u001b[39;49mPIPE,\n\u001b[1;32m    <a href='file:///home/ben/.local/lib/python3.10/site-packages/pydot.py?line=138'>139</a>\u001b[0m     \u001b[39m*\u001b[39;49m\u001b[39m*\u001b[39;49mkwargs\n\u001b[1;32m    <a href='file:///home/ben/.local/lib/python3.10/site-packages/pydot.py?line=139'>140</a>\u001b[0m )\n\u001b[1;32m    <a href='file:///home/ben/.local/lib/python3.10/site-packages/pydot.py?line=140'>141</a>\u001b[0m stdout_data, stderr_data \u001b[39m=\u001b[39m process\u001b[39m.\u001b[39mcommunicate()\n",
      "File \u001b[0;32m/usr/lib/python3.10/subprocess.py:966\u001b[0m, in \u001b[0;36mPopen.__init__\u001b[0;34m(self, args, bufsize, executable, stdin, stdout, stderr, preexec_fn, close_fds, shell, cwd, env, universal_newlines, startupinfo, creationflags, restore_signals, start_new_session, pass_fds, user, group, extra_groups, encoding, errors, text, umask, pipesize)\u001b[0m\n\u001b[1;32m    <a href='file:///usr/lib/python3.10/subprocess.py?line=962'>963</a>\u001b[0m             \u001b[39mself\u001b[39m\u001b[39m.\u001b[39mstderr \u001b[39m=\u001b[39m io\u001b[39m.\u001b[39mTextIOWrapper(\u001b[39mself\u001b[39m\u001b[39m.\u001b[39mstderr,\n\u001b[1;32m    <a href='file:///usr/lib/python3.10/subprocess.py?line=963'>964</a>\u001b[0m                     encoding\u001b[39m=\u001b[39mencoding, errors\u001b[39m=\u001b[39merrors)\n\u001b[0;32m--> <a href='file:///usr/lib/python3.10/subprocess.py?line=965'>966</a>\u001b[0m     \u001b[39mself\u001b[39;49m\u001b[39m.\u001b[39;49m_execute_child(args, executable, preexec_fn, close_fds,\n\u001b[1;32m    <a href='file:///usr/lib/python3.10/subprocess.py?line=966'>967</a>\u001b[0m                         pass_fds, cwd, env,\n\u001b[1;32m    <a href='file:///usr/lib/python3.10/subprocess.py?line=967'>968</a>\u001b[0m                         startupinfo, creationflags, shell,\n\u001b[1;32m    <a href='file:///usr/lib/python3.10/subprocess.py?line=968'>969</a>\u001b[0m                         p2cread, p2cwrite,\n\u001b[1;32m    <a href='file:///usr/lib/python3.10/subprocess.py?line=969'>970</a>\u001b[0m                         c2pread, c2pwrite,\n\u001b[1;32m    <a href='file:///usr/lib/python3.10/subprocess.py?line=970'>971</a>\u001b[0m                         errread, errwrite,\n\u001b[1;32m    <a href='file:///usr/lib/python3.10/subprocess.py?line=971'>972</a>\u001b[0m                         restore_signals,\n\u001b[1;32m    <a href='file:///usr/lib/python3.10/subprocess.py?line=972'>973</a>\u001b[0m                         gid, gids, uid, umask,\n\u001b[1;32m    <a href='file:///usr/lib/python3.10/subprocess.py?line=973'>974</a>\u001b[0m                         start_new_session)\n\u001b[1;32m    <a href='file:///usr/lib/python3.10/subprocess.py?line=974'>975</a>\u001b[0m \u001b[39mexcept\u001b[39;00m:\n\u001b[1;32m    <a href='file:///usr/lib/python3.10/subprocess.py?line=975'>976</a>\u001b[0m     \u001b[39m# Cleanup if the child failed starting.\u001b[39;00m\n",
      "File \u001b[0;32m/usr/lib/python3.10/subprocess.py:1842\u001b[0m, in \u001b[0;36mPopen._execute_child\u001b[0;34m(self, args, executable, preexec_fn, close_fds, pass_fds, cwd, env, startupinfo, creationflags, shell, p2cread, p2cwrite, c2pread, c2pwrite, errread, errwrite, restore_signals, gid, gids, uid, umask, start_new_session)\u001b[0m\n\u001b[1;32m   <a href='file:///usr/lib/python3.10/subprocess.py?line=1840'>1841</a>\u001b[0m         err_msg \u001b[39m=\u001b[39m os\u001b[39m.\u001b[39mstrerror(errno_num)\n\u001b[0;32m-> <a href='file:///usr/lib/python3.10/subprocess.py?line=1841'>1842</a>\u001b[0m     \u001b[39mraise\u001b[39;00m child_exception_type(errno_num, err_msg, err_filename)\n\u001b[1;32m   <a href='file:///usr/lib/python3.10/subprocess.py?line=1842'>1843</a>\u001b[0m \u001b[39mraise\u001b[39;00m child_exception_type(err_msg)\n",
      "\u001b[0;31mFileNotFoundError\u001b[0m: [Errno 2] No such file or directory: 'dot'",
      "\nDuring handling of the above exception, another exception occurred:\n",
      "\u001b[0;31mFileNotFoundError\u001b[0m                         Traceback (most recent call last)",
      "\u001b[1;32m/home/ben/Documents/code/cuni/2sem/prirodné_algo/05_geneticke_programko/geneticke_programko.ipynb Cell 14'\u001b[0m in \u001b[0;36m<cell line: 1>\u001b[0;34m()\u001b[0m\n\u001b[0;32m----> <a href='vscode-notebook-cell:/home/ben/Documents/code/cuni/2sem/prirodn%C3%A9_algo/05_geneticke_programko/geneticke_programko.ipynb#ch0000013?line=0'>1</a>\u001b[0m Image(plot_tree(hof[\u001b[39m0\u001b[39;49m]))\n",
      "\u001b[1;32m/home/ben/Documents/code/cuni/2sem/prirodné_algo/05_geneticke_programko/geneticke_programko.ipynb Cell 13'\u001b[0m in \u001b[0;36mplot_tree\u001b[0;34m(tree)\u001b[0m\n\u001b[1;32m     <a href='vscode-notebook-cell:/home/ben/Documents/code/cuni/2sem/prirodn%C3%A9_algo/05_geneticke_programko/geneticke_programko.ipynb#ch0000012?line=9'>10</a>\u001b[0m     edge \u001b[39m=\u001b[39m pydot\u001b[39m.\u001b[39mEdge(nodesDot[f], nodesDot[t])\n\u001b[1;32m     <a href='vscode-notebook-cell:/home/ben/Documents/code/cuni/2sem/prirodn%C3%A9_algo/05_geneticke_programko/geneticke_programko.ipynb#ch0000012?line=10'>11</a>\u001b[0m     g\u001b[39m.\u001b[39madd_edge(edge)\n\u001b[0;32m---> <a href='vscode-notebook-cell:/home/ben/Documents/code/cuni/2sem/prirodn%C3%A9_algo/05_geneticke_programko/geneticke_programko.ipynb#ch0000012?line=12'>13</a>\u001b[0m \u001b[39mreturn\u001b[39;00m g\u001b[39m.\u001b[39;49mcreate_png()\n",
      "File \u001b[0;32m~/.local/lib/python3.10/site-packages/pydot.py:1733\u001b[0m, in \u001b[0;36mDot.__init__.<locals>.new_method\u001b[0;34m(f, prog, encoding)\u001b[0m\n\u001b[1;32m   <a href='file:///home/ben/.local/lib/python3.10/site-packages/pydot.py?line=1728'>1729</a>\u001b[0m \u001b[39mdef\u001b[39;00m \u001b[39mnew_method\u001b[39m(\n\u001b[1;32m   <a href='file:///home/ben/.local/lib/python3.10/site-packages/pydot.py?line=1729'>1730</a>\u001b[0m         f\u001b[39m=\u001b[39mfrmt, prog\u001b[39m=\u001b[39m\u001b[39mself\u001b[39m\u001b[39m.\u001b[39mprog,\n\u001b[1;32m   <a href='file:///home/ben/.local/lib/python3.10/site-packages/pydot.py?line=1730'>1731</a>\u001b[0m         encoding\u001b[39m=\u001b[39m\u001b[39mNone\u001b[39;00m):\n\u001b[1;32m   <a href='file:///home/ben/.local/lib/python3.10/site-packages/pydot.py?line=1731'>1732</a>\u001b[0m     \u001b[39m\"\"\"Refer to docstring of method `create`.\"\"\"\u001b[39;00m\n\u001b[0;32m-> <a href='file:///home/ben/.local/lib/python3.10/site-packages/pydot.py?line=1732'>1733</a>\u001b[0m     \u001b[39mreturn\u001b[39;00m \u001b[39mself\u001b[39;49m\u001b[39m.\u001b[39;49mcreate(\n\u001b[1;32m   <a href='file:///home/ben/.local/lib/python3.10/site-packages/pydot.py?line=1733'>1734</a>\u001b[0m         \u001b[39mformat\u001b[39;49m\u001b[39m=\u001b[39;49mf, prog\u001b[39m=\u001b[39;49mprog, encoding\u001b[39m=\u001b[39;49mencoding)\n",
      "File \u001b[0;32m~/.local/lib/python3.10/site-packages/pydot.py:1933\u001b[0m, in \u001b[0;36mDot.create\u001b[0;34m(self, prog, format, encoding)\u001b[0m\n\u001b[1;32m   <a href='file:///home/ben/.local/lib/python3.10/site-packages/pydot.py?line=1929'>1930</a>\u001b[0m     args \u001b[39m=\u001b[39m \u001b[39mlist\u001b[39m(e\u001b[39m.\u001b[39margs)\n\u001b[1;32m   <a href='file:///home/ben/.local/lib/python3.10/site-packages/pydot.py?line=1930'>1931</a>\u001b[0m     args[\u001b[39m1\u001b[39m] \u001b[39m=\u001b[39m \u001b[39m'\u001b[39m\u001b[39m\"\u001b[39m\u001b[39m{prog}\u001b[39;00m\u001b[39m\"\u001b[39m\u001b[39m not found in path.\u001b[39m\u001b[39m'\u001b[39m\u001b[39m.\u001b[39mformat(\n\u001b[1;32m   <a href='file:///home/ben/.local/lib/python3.10/site-packages/pydot.py?line=1931'>1932</a>\u001b[0m         prog\u001b[39m=\u001b[39mprog)\n\u001b[0;32m-> <a href='file:///home/ben/.local/lib/python3.10/site-packages/pydot.py?line=1932'>1933</a>\u001b[0m     \u001b[39mraise\u001b[39;00m \u001b[39mOSError\u001b[39;00m(\u001b[39m*\u001b[39margs)\n\u001b[1;32m   <a href='file:///home/ben/.local/lib/python3.10/site-packages/pydot.py?line=1933'>1934</a>\u001b[0m \u001b[39melse\u001b[39;00m:\n\u001b[1;32m   <a href='file:///home/ben/.local/lib/python3.10/site-packages/pydot.py?line=1934'>1935</a>\u001b[0m     \u001b[39mraise\u001b[39;00m\n",
      "\u001b[0;31mFileNotFoundError\u001b[0m: [Errno 2] \"dot\" not found in path."
     ]
    }
   ],
   "source": [
    "Image(plot_tree(hof[0]))"
   ]
  },
  {
   "cell_type": "markdown",
   "metadata": {},
   "source": [
    "Ještě si napíšeme jednoduchou funkci, která nám vykreslí graf, abychom se mohli podívat, jak vypadá naše naučená funkce vzhledem k datům. Když máme štěstí na dobrý běh tak vidíme, že se nám podařilo nalézt funkci téměř ideálně pasující na naše data."
   ]
  },
  {
   "cell_type": "code",
   "execution_count": null,
   "metadata": {},
   "outputs": [
    {
     "data": {
      "image/png": "[encoded data removed]",
      "text/plain": [
       "<Figure size 864x576 with 1 Axes>"
      ]
     },
     "metadata": {
      "needs_background": "light"
     },
     "output_type": "display_data"
    }
   ],
   "source": [
    "sol = gp.compile(hof[0], pset)\n",
    "\n",
    "y = list(map(sol, x_train))\n",
    "plt.figure(figsize=(12, 8))\n",
    "plt.plot(x_train, y_train, 'ro', label='train')\n",
    "plt.plot(x_train, y, 'b',label='solution')\n",
    "plt.legend()\n",
    "plt.show()"
   ]
  },
  {
   "cell_type": "markdown",
   "metadata": {},
   "source": [
    "## Úkol na cvičení"
   ]
  },
  {
   "cell_type": "markdown",
   "metadata": {},
   "source": [
    "Zkuste pomocí genetického programování řešit problém klasifikace pro dataset Iris, se kterým jsme pracovali na prvním cvičení. Promyslete si, jak definovat množinu primitiv a fitness. Následně je naimplementujte je a pusťte genetické programování."
   ]
  },
  {
   "cell_type": "code",
   "execution_count": null,
   "metadata": {},
   "outputs": [],
   "source": []
  }
 ],
 "metadata": {
  "kernelspec": {
   "display_name": "Python 3",
   "language": "python",
   "name": "python3"
  },
  "language_info": {
   "codemirror_mode": {
    "name": "ipython",
    "version": 3
   },
   "file_extension": ".py",
   "mimetype": "text/x-python",
   "name": "python",
   "nbconvert_exporter": "python",
   "pygments_lexer": "ipython3",
   "version": "3.10.2"
  }
 },
 "nbformat": 4,
 "nbformat_minor": 2
}
